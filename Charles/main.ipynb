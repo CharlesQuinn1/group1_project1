{
 "cells": [
  {
   "cell_type": "code",
   "execution_count": 1,
   "metadata": {},
   "outputs": [],
   "source": [
    "import pandas as pd\n",
    "import datetime as dt\n",
    "import matplotlib.pyplot as plt\n",
    "import numpy as np"
   ]
  },
  {
   "cell_type": "code",
   "execution_count": 2,
   "metadata": {},
   "outputs": [],
   "source": [
    "def get_dt():\n",
    "    dt_stamp = dt.datetime.now()\n",
    "    dt_stamp = dt_stamp.strftime(\"%Y_%m_%d_%H%M%S\")\n",
    "    dt_stamp = str(dt_stamp).split(\".\")[0]\n",
    "    return dt_stamp"
   ]
  },
  {
   "cell_type": "code",
   "execution_count": 3,
   "metadata": {},
   "outputs": [
    {
     "name": "stderr",
     "output_type": "stream",
     "text": [
      "C:\\Users\\inlik\\AppData\\Local\\Temp\\ipykernel_16560\\2391643470.py:1: DtypeWarning: Columns (10) have mixed types. Specify dtype option on import or set low_memory=False.\n",
      "  csv_data = pd.read_csv('C:/C_Drive/Bootcamp/ProjectData/U.S._Chronic_Disease_Indicators__CDI_ (1).csv')\n"
     ]
    }
   ],
   "source": [
    "csv_data = pd.read_csv('C:/C_Drive/Bootcamp/ProjectData/U.S._Chronic_Disease_Indicators__CDI_ (1).csv')\n"
   ]
  },
  {
   "cell_type": "code",
   "execution_count": 4,
   "metadata": {},
   "outputs": [
    {
     "name": "stdout",
     "output_type": "stream",
     "text": [
      "<class 'pandas.core.frame.DataFrame'>\n",
      "RangeIndex: 1185676 entries, 0 to 1185675\n",
      "Data columns (total 34 columns):\n",
      " #   Column                     Non-Null Count    Dtype  \n",
      "---  ------                     --------------    -----  \n",
      " 0   YearStart                  1185676 non-null  int64  \n",
      " 1   YearEnd                    1185676 non-null  int64  \n",
      " 2   LocationAbbr               1185676 non-null  object \n",
      " 3   LocationDesc               1185676 non-null  object \n",
      " 4   DataSource                 1185676 non-null  object \n",
      " 5   Topic                      1185676 non-null  object \n",
      " 6   Question                   1185676 non-null  object \n",
      " 7   Response                   0 non-null        float64\n",
      " 8   DataValueUnit              1033553 non-null  object \n",
      " 9   DataValueType              1185676 non-null  object \n",
      " 10  DataValue                  806942 non-null   object \n",
      " 11  DataValueAlt               804578 non-null   float64\n",
      " 12  DataValueFootnoteSymbol    393710 non-null   object \n",
      " 13  DatavalueFootnote          393710 non-null   object \n",
      " 14  LowConfidenceLimit         682380 non-null   float64\n",
      " 15  HighConfidenceLimit        682380 non-null   float64\n",
      " 16  StratificationCategory1    1185676 non-null  object \n",
      " 17  Stratification1            1185676 non-null  object \n",
      " 18  StratificationCategory2    0 non-null        float64\n",
      " 19  Stratification2            0 non-null        float64\n",
      " 20  StratificationCategory3    0 non-null        float64\n",
      " 21  Stratification3            0 non-null        float64\n",
      " 22  GeoLocation                1175510 non-null  object \n",
      " 23  ResponseID                 0 non-null        float64\n",
      " 24  LocationID                 1185676 non-null  int64  \n",
      " 25  TopicID                    1185676 non-null  object \n",
      " 26  QuestionID                 1185676 non-null  object \n",
      " 27  DataValueTypeID            1185676 non-null  object \n",
      " 28  StratificationCategoryID1  1185676 non-null  object \n",
      " 29  StratificationID1          1185676 non-null  object \n",
      " 30  StratificationCategoryID2  0 non-null        float64\n",
      " 31  StratificationID2          0 non-null        float64\n",
      " 32  StratificationCategoryID3  0 non-null        float64\n",
      " 33  StratificationID3          0 non-null        float64\n",
      "dtypes: float64(13), int64(3), object(18)\n",
      "memory usage: 307.6+ MB\n"
     ]
    }
   ],
   "source": [
    "csv_data.info()"
   ]
  },
  {
   "cell_type": "code",
   "execution_count": 72,
   "metadata": {},
   "outputs": [
    {
     "data": {
      "text/html": [
       "<div>\n",
       "<style scoped>\n",
       "    .dataframe tbody tr th:only-of-type {\n",
       "        vertical-align: middle;\n",
       "    }\n",
       "\n",
       "    .dataframe tbody tr th {\n",
       "        vertical-align: top;\n",
       "    }\n",
       "\n",
       "    .dataframe thead th {\n",
       "        text-align: right;\n",
       "    }\n",
       "</style>\n",
       "<table border=\"1\" class=\"dataframe\">\n",
       "  <thead>\n",
       "    <tr style=\"text-align: right;\">\n",
       "      <th></th>\n",
       "      <th>YearEnd</th>\n",
       "      <th>Stratification1</th>\n",
       "      <th>DataValue</th>\n",
       "    </tr>\n",
       "  </thead>\n",
       "  <tbody>\n",
       "    <tr>\n",
       "      <th>0</th>\n",
       "      <td>2012</td>\n",
       "      <td>Black, non-Hispanic</td>\n",
       "      <td>11445.0</td>\n",
       "    </tr>\n",
       "    <tr>\n",
       "      <th>3</th>\n",
       "      <td>2013</td>\n",
       "      <td>Black, non-Hispanic</td>\n",
       "      <td>11696.0</td>\n",
       "    </tr>\n",
       "    <tr>\n",
       "      <th>6</th>\n",
       "      <td>2014</td>\n",
       "      <td>Black, non-Hispanic</td>\n",
       "      <td>11944.0</td>\n",
       "    </tr>\n",
       "    <tr>\n",
       "      <th>9</th>\n",
       "      <td>2015</td>\n",
       "      <td>Black, non-Hispanic</td>\n",
       "      <td>12269.0</td>\n",
       "    </tr>\n",
       "    <tr>\n",
       "      <th>12</th>\n",
       "      <td>2016</td>\n",
       "      <td>Black, non-Hispanic</td>\n",
       "      <td>12628.0</td>\n",
       "    </tr>\n",
       "  </tbody>\n",
       "</table>\n",
       "</div>"
      ],
      "text/plain": [
       "    YearEnd      Stratification1  DataValue\n",
       "0      2012  Black, non-Hispanic    11445.0\n",
       "3      2013  Black, non-Hispanic    11696.0\n",
       "6      2014  Black, non-Hispanic    11944.0\n",
       "9      2015  Black, non-Hispanic    12269.0\n",
       "12     2016  Black, non-Hispanic    12628.0"
      ]
     },
     "execution_count": 72,
     "metadata": {},
     "output_type": "execute_result"
    }
   ],
   "source": [
    "df = csv_data.loc[(csv_data['Topic'] == 'Cancer') & (csv_data['Question'] == 'Invasive cancer (all sites combined), incidence')\n",
    "                   & (csv_data['Question'] == 'Invasive cancer (all sites combined), incidence') & (csv_data['LocationAbbr'] == 'TX')\n",
    "                    & (csv_data['DataValueType'] == 'Average Annual Number')\n",
    "                    & (csv_data['StratificationCategory1'] == 'Race/Ethnicity')\n",
    "                    & ((csv_data['Stratification1'] == 'Black, non-Hispanic')\n",
    "                    | (csv_data['Stratification1'] == 'Hispanic')\n",
    "                    | (csv_data['Stratification1'] == 'White, non-Hispanic'))]\n",
    "# df1 = df.groupby(['YearStart','YearEnd', 'LocationAbbr', 'LocationDesc', 'DataSource', 'Topic',\n",
    "#                    'Question', 'StratificationCategory1', 'Stratification1', 'DataValueUnit', 'DataValueType'], as_index=False)['DataValue'].first()\n",
    "df1 = df.groupby(['YearEnd', 'Stratification1'], as_index=False)['DataValue'].first()\n",
    "df2 = df1.sort_values(by= ['Stratification1','YearEnd'], ascending=[True, True])\n",
    "df2.head()"
   ]
  },
  {
   "cell_type": "code",
   "execution_count": 73,
   "metadata": {},
   "outputs": [
    {
     "data": {
      "text/html": [
       "<div>\n",
       "<style scoped>\n",
       "    .dataframe tbody tr th:only-of-type {\n",
       "        vertical-align: middle;\n",
       "    }\n",
       "\n",
       "    .dataframe tbody tr th {\n",
       "        vertical-align: top;\n",
       "    }\n",
       "\n",
       "    .dataframe thead th {\n",
       "        text-align: right;\n",
       "    }\n",
       "</style>\n",
       "<table border=\"1\" class=\"dataframe\">\n",
       "  <thead>\n",
       "    <tr style=\"text-align: right;\">\n",
       "      <th></th>\n",
       "      <th>Stratification1</th>\n",
       "    </tr>\n",
       "  </thead>\n",
       "  <tbody>\n",
       "    <tr>\n",
       "      <th>0</th>\n",
       "      <td>Black, non-Hispanic</td>\n",
       "    </tr>\n",
       "    <tr>\n",
       "      <th>1</th>\n",
       "      <td>Hispanic</td>\n",
       "    </tr>\n",
       "    <tr>\n",
       "      <th>2</th>\n",
       "      <td>White, non-Hispanic</td>\n",
       "    </tr>\n",
       "  </tbody>\n",
       "</table>\n",
       "</div>"
      ],
      "text/plain": [
       "       Stratification1\n",
       "0  Black, non-Hispanic\n",
       "1             Hispanic\n",
       "2  White, non-Hispanic"
      ]
     },
     "execution_count": 73,
     "metadata": {},
     "output_type": "execute_result"
    }
   ],
   "source": [
    "df3 = df2.groupby('Stratification1', as_index=False)['Stratification1'].first()\n",
    "df3.head()\n"
   ]
  },
  {
   "cell_type": "code",
   "execution_count": 74,
   "metadata": {},
   "outputs": [
    {
     "name": "stdout",
     "output_type": "stream",
     "text": [
      "x: [2012 2013 2014 2015 2016 2017 2018 2019], y: [11445 11696 11944 12269 12628 12999 13441 13868], race: Black, non-Hispanic, n: 0\n",
      "x: [2012 2013 2014 2015 2016 2017 2018 2019], y: [20709 21460 22133 23015 24054 25076 26066 27088], race: Hispanic, n: 1\n",
      "x: [2012 2013 2014 2015 2016 2017 2018 2019], y: [67228 67214 67588 68386 69212 70391 72109 73176], race: White, non-Hispanic, n: 2\n"
     ]
    }
   ],
   "source": [
    "for n, race in df3.iterrows():\n",
    "    x = df2.loc[(df2['Stratification1'] == race[0]), 'YearEnd'].values\n",
    "    y = df2.loc[(df2['Stratification1'] == race[0]), 'DataValue'].values.astype(int)\n",
    "    # y = y.astype(int)\n",
    "    print(f'x: {x}, y: {y}, race: {race[0]}, n: {n}')"
   ]
  },
  {
   "cell_type": "code",
   "execution_count": 77,
   "metadata": {},
   "outputs": [
    {
     "data": {
      "image/png": "[encoded data removed]",
      "text/plain": [
       "<Figure size 640x480 with 1 Axes>"
      ]
     },
     "metadata": {},
     "output_type": "display_data"
    }
   ],
   "source": [
    "fig = plt.figure()\n",
    "# plt.subplots_adjust(wspace=.3, hspace=.5)\n",
    "# fig.suptitle('\\n\\nCorrelation between mouse age and the average tumor volume')\n",
    "# fig.suptitle(t='\\n\\nCorrelation between mouse age and the average tumor volume', fontsize=18, ha='center', color='darkred')\n",
    "# font = {'family': 'serif', 'color': 'darkred', 'weight': 'normal', 'size': 12}\n",
    "ax = fig.add_subplot()\n",
    "for n, race in df3.iterrows():\n",
    "    x = df2.loc[(df2['Stratification1'] == race[0]), 'YearEnd'].values\n",
    "    y = df2.loc[(df2['Stratification1'] == race[0]), 'DataValue'].values.astype(int)\n",
    "    ax.plot(x, y, label=race[0])\n",
    "    ax.set_xlabel('Year End')\n",
    "    ax.set_ylabel('Race')\n",
    "    ax.legend()\n",
    "    # ax.set_title(f'{treatment} \\n (slope: {z[0]:.3f}, r = {r:.2f})', fontdict=font)"
   ]
  },
  {
   "cell_type": "code",
   "execution_count": 57,
   "metadata": {},
   "outputs": [
    {
     "name": "stdout",
     "output_type": "stream",
     "text": [
      "8\n"
     ]
    }
   ],
   "source": [
    "output = df1\n",
    "print(len(df1))"
   ]
  },
  {
   "cell_type": "code",
   "execution_count": 58,
   "metadata": {},
   "outputs": [],
   "source": [
    "filename = 'C:/C_Drive/Bootcamp/ProjectData/output-%s.xlsx' % get_dt()\n",
    "with pd.ExcelWriter(filename) as writer:\n",
    "    output.to_excel(writer, sheet_name='data')"
   ]
  }
 ],
 "metadata": {
  "kernelspec": {
   "display_name": "dev2",
   "language": "python",
   "name": "python3"
  },
  "language_info": {
   "codemirror_mode": {
    "name": "ipython",
    "version": 3
   },
   "file_extension": ".py",
   "mimetype": "text/x-python",
   "name": "python",
   "nbconvert_exporter": "python",
   "pygments_lexer": "ipython3",
   "version": "3.10.9"
  },
  "orig_nbformat": 4
 },
 "nbformat": 4,
 "nbformat_minor": 2
}
